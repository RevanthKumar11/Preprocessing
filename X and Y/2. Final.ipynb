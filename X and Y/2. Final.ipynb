{
 "cells": [
  {
   "cell_type": "code",
   "execution_count": 1,
   "id": "7ee85de3",
   "metadata": {},
   "outputs": [],
   "source": [
    "import pickle"
   ]
  },
  {
   "cell_type": "code",
   "execution_count": 2,
   "id": "9bfe6ddd",
   "metadata": {},
   "outputs": [],
   "source": [
    "predictionValues = [34500, 45934.87, 56324.45, 1, 0]"
   ]
  },
  {
   "cell_type": "markdown",
   "id": "d791b96f",
   "metadata": {},
   "source": [
    "# Standard Scalar input transform"
   ]
  },
  {
   "cell_type": "code",
   "execution_count": 3,
   "id": "9f882b8b",
   "metadata": {},
   "outputs": [
    {
     "name": "stderr",
     "output_type": "stream",
     "text": [
      "C:\\Users\\REVANTH KUMAR\\Anaconda3\\envs\\hopeAi\\lib\\site-packages\\sklearn\\base.py:451: UserWarning: X does not have valid feature names, but StandardScaler was fitted with feature names\n",
      "  \"X does not have valid feature names, but\"\n"
     ]
    }
   ],
   "source": [
    "loadedStandardScaler = pickle.load(open('xStandardScaler.sav', 'rb'))\n",
    "transformValues = loadedStandardScaler.transform([predictionValues])"
   ]
  },
  {
   "cell_type": "code",
   "execution_count": 4,
   "id": "176642ac",
   "metadata": {},
   "outputs": [
    {
     "data": {
      "text/plain": [
       "array([[-0.77979116, -2.59565737, -1.28986156,  1.44337567, -0.69282032]])"
      ]
     },
     "execution_count": 4,
     "metadata": {},
     "output_type": "execute_result"
    }
   ],
   "source": [
    "transformValues"
   ]
  },
  {
   "cell_type": "markdown",
   "id": "fadb3920",
   "metadata": {},
   "source": [
    "# Prediction the profit"
   ]
  },
  {
   "cell_type": "code",
   "execution_count": 6,
   "id": "14101925",
   "metadata": {},
   "outputs": [],
   "source": [
    "predictionProfit = pickle.load(open('startUpPrediction.sav', 'rb'))\n",
    "profit = predictionProfit.predict(transformValues)"
   ]
  },
  {
   "cell_type": "code",
   "execution_count": 7,
   "id": "3e61eadf",
   "metadata": {},
   "outputs": [
    {
     "data": {
      "text/plain": [
       "array([-0.79237907])"
      ]
     },
     "execution_count": 7,
     "metadata": {},
     "output_type": "execute_result"
    }
   ],
   "source": [
    "profit"
   ]
  },
  {
   "cell_type": "markdown",
   "id": "36221ee6",
   "metadata": {},
   "source": [
    "# inverse the value"
   ]
  },
  {
   "cell_type": "code",
   "execution_count": null,
   "id": "0e91896f",
   "metadata": {},
   "outputs": [],
   "source": [
    " = pickle.load(open('yStandardScaler.sav', 'rb'))"
   ]
  }
 ],
 "metadata": {
  "kernelspec": {
   "display_name": "Python 3 (ipykernel)",
   "language": "python",
   "name": "python3"
  },
  "language_info": {
   "codemirror_mode": {
    "name": "ipython",
    "version": 3
   },
   "file_extension": ".py",
   "mimetype": "text/x-python",
   "name": "python",
   "nbconvert_exporter": "python",
   "pygments_lexer": "ipython3",
   "version": "3.7.6"
  }
 },
 "nbformat": 4,
 "nbformat_minor": 5
}
