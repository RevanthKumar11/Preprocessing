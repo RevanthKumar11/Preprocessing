{
 "cells": [
  {
   "cell_type": "code",
   "execution_count": 1,
   "id": "aa9f19c0",
   "metadata": {},
   "outputs": [],
   "source": [
    "import pickle"
   ]
  },
  {
   "cell_type": "code",
   "execution_count": 2,
   "id": "374f3600",
   "metadata": {},
   "outputs": [],
   "source": [
    "predictionValues = [2.0, 321.045, 34.4, 4.3]"
   ]
  },
  {
   "cell_type": "code",
   "execution_count": 3,
   "id": "bb74bfbd",
   "metadata": {},
   "outputs": [
    {
     "name": "stderr",
     "output_type": "stream",
     "text": [
      "C:\\Users\\REVANTH KUMAR\\Anaconda3\\envs\\hopeAi\\lib\\site-packages\\sklearn\\base.py:451: UserWarning: X does not have valid feature names, but StandardScaler was fitted with feature names\n",
      "  \"X does not have valid feature names, but\"\n"
     ]
    }
   ],
   "source": [
    "loadedStandardScaler = pickle.load(open('ckdStandardScaler.sav', 'rb'))\n",
    "transformValues = loadedStandardScaler.transform([predictionValues])"
   ]
  },
  {
   "cell_type": "code",
   "execution_count": 4,
   "id": "195c8cd5",
   "metadata": {},
   "outputs": [],
   "source": [
    "if len(transformValues) != 0:\n",
    "    prediction = pickle.load(open('ckdPrediction.sav', 'rb'))\n",
    "    result = prediction.predict(transformValues)"
   ]
  },
  {
   "cell_type": "code",
   "execution_count": 5,
   "id": "e2f1a956",
   "metadata": {},
   "outputs": [
    {
     "data": {
      "text/plain": [
       "1"
      ]
     },
     "execution_count": 5,
     "metadata": {},
     "output_type": "execute_result"
    }
   ],
   "source": [
    "result[0]"
   ]
  },
  {
   "cell_type": "code",
   "execution_count": null,
   "id": "3ee26a86",
   "metadata": {},
   "outputs": [],
   "source": []
  }
 ],
 "metadata": {
  "kernelspec": {
   "display_name": "Python 3 (ipykernel)",
   "language": "python",
   "name": "python3"
  },
  "language_info": {
   "codemirror_mode": {
    "name": "ipython",
    "version": 3
   },
   "file_extension": ".py",
   "mimetype": "text/x-python",
   "name": "python",
   "nbconvert_exporter": "python",
   "pygments_lexer": "ipython3",
   "version": "3.7.6"
  }
 },
 "nbformat": 4,
 "nbformat_minor": 5
}
